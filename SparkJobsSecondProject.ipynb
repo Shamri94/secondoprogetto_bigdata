{
 "cells": [
  {
   "cell_type": "code",
   "execution_count": 1,
   "metadata": {},
   "outputs": [],
   "source": [
    "from pyspark.sql import SparkSession\n",
    "spark = SparkSession.builder \\\n",
    "    .master(\"local\") \\\n",
    "    .appName(\"pantheon\") \\\n",
    "    .getOrCreate()"
   ]
  },
  {
   "cell_type": "code",
   "execution_count": 41,
   "metadata": {},
   "outputs": [
    {
     "data": {
      "text/plain": [
       "[Row(id_dato=1811253, data_ora=datetime.datetime(2018, 10, 12, 14, 25, 15), temp1_media=25.99, temp1_min=25.93, temp1_max=26.08, ur1_media=56.69, ur1_min=52.56, ur1_max=58.97, temp1_ur1_n_letture=5, pioggia_mm=0.0, rad W/mq=75.0, rad_n_letture=5, wind_dir=6, wind_dir_n_letture=5, wind_speed_media=0.3, wind_speed_max=15.62, wind_speed_n_letture=25, pressione_mbar=1085.94, pressione_standard_mbar=1118.68, pressione_n_letture=5, rad W/mq array='{}')]"
      ]
     },
     "execution_count": 41,
     "metadata": {},
     "output_type": "execute_result"
    }
   ],
   "source": [
    "stazioneDf = spark.read.format('com.databricks.spark.csv')\\\n",
    ".options(delimiter=';',header='true', inferschema='true').load('datasets/pantheon20190612-stazione.csv')\n",
    "stazioneDf.take(1)"
   ]
  },
  {
   "cell_type": "code",
   "execution_count": 40,
   "metadata": {
    "scrolled": false
   },
   "outputs": [
    {
     "name": "stdout",
     "output_type": "stream",
     "text": [
      "root\n",
      " |-- id_dato: integer (nullable = true)\n",
      " |-- data_ora: timestamp (nullable = true)\n",
      " |-- temp1_media: double (nullable = true)\n",
      " |-- temp1_min: double (nullable = true)\n",
      " |-- temp1_max: double (nullable = true)\n",
      " |-- ur1_media: double (nullable = true)\n",
      " |-- ur1_min: double (nullable = true)\n",
      " |-- ur1_max: double (nullable = true)\n",
      " |-- temp1_ur1_n_letture: integer (nullable = true)\n",
      " |-- pioggia_mm: double (nullable = true)\n",
      " |-- rad W/mq: double (nullable = true)\n",
      " |-- rad_n_letture: integer (nullable = true)\n",
      " |-- wind_dir: integer (nullable = true)\n",
      " |-- wind_dir_n_letture: integer (nullable = true)\n",
      " |-- wind_speed_media: double (nullable = true)\n",
      " |-- wind_speed_max: double (nullable = true)\n",
      " |-- wind_speed_n_letture: integer (nullable = true)\n",
      " |-- pressione_mbar: double (nullable = true)\n",
      " |-- pressione_standard_mbar: double (nullable = true)\n",
      " |-- pressione_n_letture: integer (nullable = true)\n",
      " |-- rad W/mq array: string (nullable = true)\n",
      "\n"
     ]
    }
   ],
   "source": [
    "stazioneDf.printSchema()"
   ]
  },
  {
   "cell_type": "code",
   "execution_count": 28,
   "metadata": {},
   "outputs": [],
   "source": [
    "# con questa opzione della Spark Session impostata a True, non c'è più bisogno di usare show per vedere i dataframe;\n",
    "# inoltre li posso vedere in modo non sballato\n",
    "spark.conf.set(\"spark.sql.repl.eagerEval.enabled\",True)"
   ]
  },
  {
   "cell_type": "code",
   "execution_count": 29,
   "metadata": {
    "scrolled": true
   },
   "outputs": [
    {
     "data": {
      "text/html": [
       "<table border='1'>\n",
       "<tr><th>id_dato</th><th>data_ora</th><th>temp1_media</th><th>temp1_min</th><th>temp1_max</th><th>ur1_media</th><th>ur1_min</th><th>ur1_max</th><th>temp1_ur1_n_letture</th><th>pioggia_mm</th><th>rad W/mq</th><th>rad_n_letture</th><th>wind_dir</th><th>wind_dir_n_letture</th><th>wind_speed_media</th><th>wind_speed_max</th><th>wind_speed_n_letture</th><th>pressione_mbar</th><th>pressione_standard_mbar</th><th>pressione_n_letture</th><th>rad W/mq array</th></tr>\n",
       "<tr><td>1811253</td><td>2018-10-12 14:25:15</td><td>25.99</td><td>25.93</td><td>26.08</td><td>56.69</td><td>52.56</td><td>58.97</td><td>5</td><td>0.0</td><td>75.0</td><td>5</td><td>6</td><td>5</td><td>0.3</td><td>15.62</td><td>25</td><td>1085.94</td><td>1118.68</td><td>5</td><td>{}</td></tr>\n",
       "<tr><td>1811269</td><td>2018-10-12 14:30:12</td><td>25.81</td><td>25.35</td><td>26.03</td><td>57.25</td><td>49.95</td><td>61.32</td><td>5</td><td>0.0</td><td>104.1</td><td>5</td><td>6</td><td>5</td><td>0.91</td><td>5.41</td><td>75</td><td>1087.05</td><td>1119.79</td><td>5</td><td>{}</td></tr>\n",
       "<tr><td>1811283</td><td>2018-10-12 14:35:11</td><td>24.34</td><td>23.88</td><td>24.98</td><td>52.91</td><td>51.54</td><td>54.04</td><td>5</td><td>0.0</td><td>234.4</td><td>5</td><td>52</td><td>5</td><td>3.89</td><td>9.43</td><td>322</td><td>1085.7</td><td>1118.44</td><td>5</td><td>{}</td></tr>\n",
       "<tr><td>1811284</td><td>2018-10-12 14:40:13</td><td>23.82</td><td>23.76</td><td>23.89</td><td>54.17</td><td>53.44</td><td>54.91</td><td>5</td><td>0.0</td><td>247.2</td><td>5</td><td>44</td><td>5</td><td>2.37</td><td>8.19</td><td>196</td><td>1088.63</td><td>1121.37</td><td>5</td><td>{}</td></tr>\n",
       "<tr><td>1811304</td><td>2018-10-12 14:45:13</td><td>23.74</td><td>23.66</td><td>23.86</td><td>55.22</td><td>53.6</td><td>56.69</td><td>5</td><td>0.0</td><td>206.6</td><td>5</td><td>72</td><td>5</td><td>1.93</td><td>5.7</td><td>160</td><td>1086.11</td><td>1118.85</td><td>5</td><td>{}</td></tr>\n",
       "<tr><td>1811314</td><td>2018-10-12 14:50:10</td><td>23.84</td><td>23.76</td><td>23.92</td><td>57.18</td><td>55.32</td><td>58.4</td><td>5</td><td>0.0</td><td>250.3</td><td>5</td><td>68</td><td>5</td><td>1.3</td><td>3.41</td><td>108</td><td>1086.41</td><td>1119.15</td><td>5</td><td>{}</td></tr>\n",
       "<tr><td>1811315</td><td>2018-10-12 14:55:13</td><td>23.92</td><td>23.84</td><td>23.97</td><td>56.15</td><td>55.42</td><td>56.99</td><td>5</td><td>0.0</td><td>307.5</td><td>5</td><td>42</td><td>5</td><td>2.88</td><td>8.1</td><td>239</td><td>1086.35</td><td>1119.09</td><td>5</td><td>{}</td></tr>\n",
       "<tr><td>1811334</td><td>2018-10-12 15:00:15</td><td>24.45</td><td>24.1</td><td>24.71</td><td>54.74</td><td>52.34</td><td>57.76</td><td>5</td><td>0.0</td><td>360.5</td><td>5</td><td>72</td><td>5</td><td>2.63</td><td>6.32</td><td>218</td><td>1086.35</td><td>1119.09</td><td>5</td><td>{}</td></tr>\n",
       "<tr><td>1811345</td><td>2018-10-12 15:05:11</td><td>24.37</td><td>24.3</td><td>24.43</td><td>54.01</td><td>53.14</td><td>54.93</td><td>5</td><td>0.0</td><td>307.5</td><td>5</td><td>53</td><td>5</td><td>2.91</td><td>7.23</td><td>241</td><td>1086.29</td><td>1119.03</td><td>5</td><td>{}</td></tr>\n",
       "<tr><td>1811346</td><td>2018-10-12 15:10:13</td><td>24.71</td><td>24.58</td><td>24.86</td><td>52.08</td><td>48.88</td><td>54.2</td><td>5</td><td>0.0</td><td>388.4</td><td>5</td><td>69</td><td>5</td><td>3.13</td><td>8.12</td><td>259</td><td>1086.29</td><td>1119.03</td><td>5</td><td>{}</td></tr>\n",
       "<tr><td>1811371</td><td>2018-10-12 15:15:13</td><td>25.0</td><td>24.78</td><td>25.16</td><td>48.41</td><td>47.26</td><td>49.07</td><td>5</td><td>0.0</td><td>367.5</td><td>5</td><td>52</td><td>5</td><td>2.69</td><td>6.73</td><td>223</td><td>1086.93</td><td>1119.67</td><td>5</td><td>{}</td></tr>\n",
       "<tr><td>1811376</td><td>2018-10-12 15:20:10</td><td>25.27</td><td>25.24</td><td>25.33</td><td>46.8</td><td>45.04</td><td>48.39</td><td>5</td><td>0.0</td><td>348.9</td><td>5</td><td>60</td><td>5</td><td>2.02</td><td>4.69</td><td>167</td><td>1085.94</td><td>1118.68</td><td>5</td><td>{}</td></tr>\n",
       "<tr><td>1811377</td><td>2018-10-12 15:25:13</td><td>25.42</td><td>25.22</td><td>25.63</td><td>46.21</td><td>45.39</td><td>46.92</td><td>5</td><td>0.0</td><td>340.4</td><td>5</td><td>39</td><td>5</td><td>1.19</td><td>4.42</td><td>99</td><td>1085.24</td><td>1117.97</td><td>5</td><td>{}</td></tr>\n",
       "<tr><td>1811399</td><td>2018-10-12 15:30:15</td><td>25.39</td><td>25.28</td><td>25.52</td><td>47.07</td><td>45.55</td><td>48.82</td><td>5</td><td>0.0</td><td>321.8</td><td>5</td><td>17</td><td>5</td><td>2.14</td><td>5.99</td><td>177</td><td>1085.59</td><td>1118.33</td><td>5</td><td>{}</td></tr>\n",
       "<tr><td>1811407</td><td>2018-10-12 15:35:11</td><td>25.08</td><td>24.94</td><td>25.2</td><td>45.27</td><td>43.57</td><td>46.62</td><td>5</td><td>0.0</td><td>304.4</td><td>5</td><td>12</td><td>5</td><td>2.79</td><td>6.19</td><td>231</td><td>1085.47</td><td>1118.21</td><td>5</td><td>{}</td></tr>\n",
       "<tr><td>1811408</td><td>2018-10-12 15:40:13</td><td>25.07</td><td>24.9</td><td>25.26</td><td>47.84</td><td>46.65</td><td>49.48</td><td>5</td><td>0.0</td><td>294.4</td><td>5</td><td>47</td><td>5</td><td>1.09</td><td>3.36</td><td>90</td><td>1085.35</td><td>1118.09</td><td>5</td><td>{}</td></tr>\n",
       "<tr><td>1811429</td><td>2018-10-12 15:45:13</td><td>25.2</td><td>25.09</td><td>25.32</td><td>47.64</td><td>46.13</td><td>49.45</td><td>5</td><td>0.0</td><td>277.0</td><td>5</td><td>52</td><td>5</td><td>2.27</td><td>6.37</td><td>188</td><td>1085.65</td><td>1118.38</td><td>5</td><td>{}</td></tr>\n",
       "<tr><td>1811438</td><td>2018-10-12 15:50:12</td><td>24.97</td><td>24.86</td><td>25.13</td><td>47.39</td><td>45.7</td><td>49.33</td><td>6</td><td>0.0</td><td>259.8</td><td>6</td><td>23</td><td>6</td><td>0.92</td><td>3.15</td><td>76</td><td>1085.26</td><td>1118.0</td><td>6</td><td>{}</td></tr>\n",
       "<tr><td>1811457</td><td>2018-10-12 16:00:13</td><td>25.0</td><td>24.86</td><td>25.18</td><td>47.82</td><td>45.66</td><td>49.8</td><td>8</td><td>0.0</td><td>231.3</td><td>8</td><td>68</td><td>8</td><td>0.48</td><td>4.35</td><td>120</td><td>1085.41</td><td>1118.15</td><td>8</td><td>{}</td></tr>\n",
       "<tr><td>1811475</td><td>2018-10-12 16:15:10</td><td>24.76</td><td>24.34</td><td>24.98</td><td>48.51</td><td>45.24</td><td>51.25</td><td>15</td><td>0.0</td><td>195.2</td><td>15</td><td>53</td><td>15</td><td>1.02</td><td>4.39</td><td>254</td><td>1085.5</td><td>1118.24</td><td>15</td><td>{}</td></tr>\n",
       "</table>\n",
       "only showing top 20 rows\n"
      ],
      "text/plain": [
       "DataFrame[id_dato: int, data_ora: timestamp, temp1_media: double, temp1_min: double, temp1_max: double, ur1_media: double, ur1_min: double, ur1_max: double, temp1_ur1_n_letture: int, pioggia_mm: double, rad W/mq: double, rad_n_letture: int, wind_dir: int, wind_dir_n_letture: int, wind_speed_media: double, wind_speed_max: double, wind_speed_n_letture: int, pressione_mbar: double, pressione_standard_mbar: double, pressione_n_letture: int, rad W/mq array: string]"
      ]
     },
     "execution_count": 29,
     "metadata": {},
     "output_type": "execute_result"
    }
   ],
   "source": [
    "stazioneDf"
   ]
  },
  {
   "cell_type": "markdown",
   "metadata": {},
   "source": [
    "## Calcolo somma di pioggia ogni mese"
   ]
  },
  {
   "cell_type": "code",
   "execution_count": 31,
   "metadata": {
    "scrolled": true
   },
   "outputs": [
    {
     "data": {
      "text/html": [
       "<table border='1'>\n",
       "<tr><th>data_ora</th><th>pioggia_mm</th></tr>\n",
       "<tr><td>2018-10-12 14:25:15</td><td>0.0</td></tr>\n",
       "<tr><td>2018-10-12 14:30:12</td><td>0.0</td></tr>\n",
       "<tr><td>2018-10-12 14:35:11</td><td>0.0</td></tr>\n",
       "<tr><td>2018-10-12 14:40:13</td><td>0.0</td></tr>\n",
       "<tr><td>2018-10-12 14:45:13</td><td>0.0</td></tr>\n",
       "<tr><td>2018-10-12 14:50:10</td><td>0.0</td></tr>\n",
       "<tr><td>2018-10-12 14:55:13</td><td>0.0</td></tr>\n",
       "<tr><td>2018-10-12 15:00:15</td><td>0.0</td></tr>\n",
       "<tr><td>2018-10-12 15:05:11</td><td>0.0</td></tr>\n",
       "<tr><td>2018-10-12 15:10:13</td><td>0.0</td></tr>\n",
       "<tr><td>2018-10-12 15:15:13</td><td>0.0</td></tr>\n",
       "<tr><td>2018-10-12 15:20:10</td><td>0.0</td></tr>\n",
       "<tr><td>2018-10-12 15:25:13</td><td>0.0</td></tr>\n",
       "<tr><td>2018-10-12 15:30:15</td><td>0.0</td></tr>\n",
       "<tr><td>2018-10-12 15:35:11</td><td>0.0</td></tr>\n",
       "<tr><td>2018-10-12 15:40:13</td><td>0.0</td></tr>\n",
       "<tr><td>2018-10-12 15:45:13</td><td>0.0</td></tr>\n",
       "<tr><td>2018-10-12 15:50:12</td><td>0.0</td></tr>\n",
       "<tr><td>2018-10-12 16:00:13</td><td>0.0</td></tr>\n",
       "<tr><td>2018-10-12 16:15:10</td><td>0.0</td></tr>\n",
       "</table>\n",
       "only showing top 20 rows\n"
      ],
      "text/plain": [
       "+-------------------+----------+\n",
       "|           data_ora|pioggia_mm|\n",
       "+-------------------+----------+\n",
       "|2018-10-12 14:25:15|       0.0|\n",
       "|2018-10-12 14:30:12|       0.0|\n",
       "|2018-10-12 14:35:11|       0.0|\n",
       "|2018-10-12 14:40:13|       0.0|\n",
       "|2018-10-12 14:45:13|       0.0|\n",
       "|2018-10-12 14:50:10|       0.0|\n",
       "|2018-10-12 14:55:13|       0.0|\n",
       "|2018-10-12 15:00:15|       0.0|\n",
       "|2018-10-12 15:05:11|       0.0|\n",
       "|2018-10-12 15:10:13|       0.0|\n",
       "|2018-10-12 15:15:13|       0.0|\n",
       "|2018-10-12 15:20:10|       0.0|\n",
       "|2018-10-12 15:25:13|       0.0|\n",
       "|2018-10-12 15:30:15|       0.0|\n",
       "|2018-10-12 15:35:11|       0.0|\n",
       "|2018-10-12 15:40:13|       0.0|\n",
       "|2018-10-12 15:45:13|       0.0|\n",
       "|2018-10-12 15:50:12|       0.0|\n",
       "|2018-10-12 16:00:13|       0.0|\n",
       "|2018-10-12 16:15:10|       0.0|\n",
       "+-------------------+----------+\n",
       "only showing top 20 rows"
      ]
     },
     "execution_count": 31,
     "metadata": {},
     "output_type": "execute_result"
    }
   ],
   "source": [
    "stazioneDf.select('data_ora', 'pioggia_mm')"
   ]
  },
  {
   "cell_type": "code",
   "execution_count": 32,
   "metadata": {},
   "outputs": [],
   "source": [
    "from pyspark.sql.functions import month, year\n",
    "from pyspark.sql.functions import sum, avg\n",
    "# fare lo show() non crea effettivamente l'oggetto ma lo mostra solamente, quindi se voglio creare un oggetto ed\n",
    "# untilizzarlo, non devo usare lo show in un punto intermedio\n",
    "df1 = stazioneDf.select(year('data_ora').alias(\"year\"), month('data_ora').alias(\"month\"), \"pioggia_mm\")\\\n",
    ".groupBy(\"year\", \"month\").agg(sum(\"pioggia_mm\").alias(\"total_rain\")).orderBy(\"year\", \"month\")\n",
    "\n",
    "#df2 = stazioneDf.select(year('data_ora').alias(\"year\"), month('data_ora').alias(\"month\"))\n",
    "\n",
    "#df_rain = df2.join(df1, 'month').show()\n",
    "\n",
    "#.groupBy(\"month\").agg(avg(\"year\")).show()\n",
    "#print(df1)"
   ]
  },
  {
   "cell_type": "code",
   "execution_count": 33,
   "metadata": {},
   "outputs": [
    {
     "data": {
      "text/html": [
       "<table border='1'>\n",
       "<tr><th>year</th><th>month</th><th>total_rain</th></tr>\n",
       "<tr><td>2018</td><td>10</td><td>13.15999999999998</td></tr>\n",
       "<tr><td>2018</td><td>11</td><td>40.67999999999985</td></tr>\n",
       "<tr><td>2018</td><td>12</td><td>9.079999999999988</td></tr>\n",
       "<tr><td>2019</td><td>1</td><td>23.599999999999905</td></tr>\n",
       "<tr><td>2019</td><td>2</td><td>16.839999999999968</td></tr>\n",
       "<tr><td>2019</td><td>3</td><td>1.4000000000000004</td></tr>\n",
       "<tr><td>2019</td><td>4</td><td>13.159999999999961</td></tr>\n",
       "<tr><td>2019</td><td>5</td><td>37.5599999999997</td></tr>\n",
       "<tr><td>2019</td><td>6</td><td>0.0</td></tr>\n",
       "</table>\n"
      ],
      "text/plain": [
       "+----+-----+------------------+\n",
       "|year|month|        total_rain|\n",
       "+----+-----+------------------+\n",
       "|2018|   10| 13.15999999999998|\n",
       "|2018|   11| 40.67999999999985|\n",
       "|2018|   12| 9.079999999999988|\n",
       "|2019|    1|23.599999999999905|\n",
       "|2019|    2|16.839999999999968|\n",
       "|2019|    3|1.4000000000000004|\n",
       "|2019|    4|13.159999999999961|\n",
       "|2019|    5|  37.5599999999997|\n",
       "|2019|    6|               0.0|\n",
       "+----+-----+------------------+"
      ]
     },
     "execution_count": 33,
     "metadata": {},
     "output_type": "execute_result"
    }
   ],
   "source": [
    "df1"
   ]
  },
  {
   "cell_type": "markdown",
   "metadata": {},
   "source": [
    "## Rilevamento di anomalie"
   ]
  },
  {
   "cell_type": "code",
   "execution_count": 34,
   "metadata": {
    "scrolled": false
   },
   "outputs": [],
   "source": [
    "from pyspark.sql import SparkSession\n",
    "df1.createOrReplaceTempView(\"table1\")\n",
    "# spark.sql(\"SELECT year, month, sum(pioggia_mm) AS total_rain FROM table1 GROUP BY year, month\")"
   ]
  },
  {
   "cell_type": "code",
   "execution_count": 35,
   "metadata": {},
   "outputs": [],
   "source": [
    "# job che rileva se per un certo periodo di tempo ci sono valori nulli su una o più colonne, manda un alert\n",
    "# o comunque da' TRUE. Questo può essere utile per capire se i sensori si sono guastati"
   ]
  },
  {
   "cell_type": "code",
   "execution_count": 36,
   "metadata": {},
   "outputs": [],
   "source": [
    "# questa cella serve ad individuare i blocchi del dataframe accomunati da una caratteristica comune, ad esempio in questo caso\n",
    "# vogliamo raggruppare tutti i blocchi con radiazione nulla e tutti quelli con radiazione non nulla\n",
    "# la funzione lag serve , data una certa riga , a selezionare la riga che si trova ad un certo offset da questa, nel nostro caso 1\n",
    "# usiamo lag per selezionare la riga subito sotto alla riga di inizio di un blocco \n",
    "# coalesce serve per selezionare, data una lista di colonne, la prima colonna non nulla\n",
    "# count considera nel conteggio solo le celle non vuote, così può essere utile per individuare una sottocolonna con tutti valori non nulli\n",
    "import pyspark.sql.functions as F\n",
    "from pyspark.sql.window import Window\n",
    "nullRadSlot = stazioneDf\n",
    "nullRadSlot = nullRadSlot.withColumn(\"isnull\", F.when(nullRadSlot['rad W/mq'].isNull(), True).otherwise(False))\n",
    "nullRadSlot = nullRadSlot.withColumn(\"lag_isnull\", F.lag(nullRadSlot[\"isnull\"],1).over(Window.orderBy(nullRadSlot[\"data_ora\"])))\n",
    "nullRadSlot = nullRadSlot.withColumn(\"change\", F.coalesce(nullRadSlot[\"isnull\"]!=nullRadSlot[\"lag_isnull\"],F.lit(False)))\n",
    "nullRadSlot = nullRadSlot.withColumn(\"block\", F.sum(nullRadSlot[\"change\"].cast(\"int\")).over(Window.orderBy(nullRadSlot[\"data_ora\"])))\\\n",
    "  .groupBy(\"block\")\\\n",
    "  .agg(F.min(nullRadSlot[\"data_ora\"]).alias('mindata'),\n",
    "    F.max(nullRadSlot[\"data_ora\"]).alias('maxdata'),\n",
    "    (F.count(nullRadSlot['rad W/mq'])==0).alias('blocco_isnull'))"
   ]
  },
  {
   "cell_type": "code",
   "execution_count": 37,
   "metadata": {},
   "outputs": [
    {
     "data": {
      "text/html": [
       "<table border='1'>\n",
       "<tr><th>block</th><th>mindata</th><th>maxdata</th><th>blocco_isnull</th></tr>\n",
       "<tr><td>0</td><td>2018-10-12 14:25:15</td><td>2019-05-06 08:55:28</td><td>false</td></tr>\n",
       "<tr><td>1</td><td>2019-05-06 13:40:10</td><td>2019-06-12 09:25:15</td><td>true</td></tr>\n",
       "</table>\n"
      ],
      "text/plain": [
       "+-----+-------------------+-------------------+-------------+\n",
       "|block|            mindata|            maxdata|blocco_isnull|\n",
       "+-----+-------------------+-------------------+-------------+\n",
       "|    0|2018-10-12 14:25:15|2019-05-06 08:55:28|        false|\n",
       "|    1|2019-05-06 13:40:10|2019-06-12 09:25:15|         true|\n",
       "+-----+-------------------+-------------------+-------------+"
      ]
     },
     "execution_count": 37,
     "metadata": {},
     "output_type": "execute_result"
    }
   ],
   "source": [
    "nullRadSlot"
   ]
  },
  {
   "cell_type": "code",
   "execution_count": 38,
   "metadata": {},
   "outputs": [],
   "source": [
    "timeFmt = \"yyyy-MM-dd'T'HH:mm:ss.SSS\"\n",
    "timeDiff = (F.unix_timestamp('maxdata', format=timeFmt)\n",
    "            - F.unix_timestamp('mindata', format=timeFmt))\n",
    "nullRadSlot = nullRadSlot.withColumn(\"Duration\", timeDiff)"
   ]
  },
  {
   "cell_type": "code",
   "execution_count": 39,
   "metadata": {},
   "outputs": [
    {
     "data": {
      "text/html": [
       "<table border='1'>\n",
       "<tr><th>block</th><th>mindata</th><th>maxdata</th><th>blocco_isnull</th><th>Duration</th></tr>\n",
       "<tr><td>0</td><td>2018-10-12 14:25:15</td><td>2019-05-06 08:55:28</td><td>false</td><td>17778613</td></tr>\n",
       "<tr><td>1</td><td>2019-05-06 13:40:10</td><td>2019-06-12 09:25:15</td><td>true</td><td>3181505</td></tr>\n",
       "</table>\n"
      ],
      "text/plain": [
       "+-----+-------------------+-------------------+-------------+--------+\n",
       "|block|            mindata|            maxdata|blocco_isnull|Duration|\n",
       "+-----+-------------------+-------------------+-------------+--------+\n",
       "|    0|2018-10-12 14:25:15|2019-05-06 08:55:28|        false|17778613|\n",
       "|    1|2019-05-06 13:40:10|2019-06-12 09:25:15|         true| 3181505|\n",
       "+-----+-------------------+-------------------+-------------+--------+"
      ]
     },
     "execution_count": 39,
     "metadata": {},
     "output_type": "execute_result"
    }
   ],
   "source": [
    "nullRadSlot"
   ]
  },
  {
   "cell_type": "markdown",
   "metadata": {},
   "source": [
    "## Calcolo temperatura media ed umidità settimanale"
   ]
  },
  {
   "cell_type": "code",
   "execution_count": 44,
   "metadata": {},
   "outputs": [
    {
     "data": {
      "text/html": [
       "<table border='1'>\n",
       "<tr><th>weekofyear(data_ora)</th><th>temp1_media</th><th>ur1_media</th></tr>\n",
       "<tr><td>41</td><td>25.99</td><td>56.69</td></tr>\n",
       "<tr><td>41</td><td>25.81</td><td>57.25</td></tr>\n",
       "<tr><td>41</td><td>24.34</td><td>52.91</td></tr>\n",
       "<tr><td>41</td><td>23.82</td><td>54.17</td></tr>\n",
       "<tr><td>41</td><td>23.74</td><td>55.22</td></tr>\n",
       "<tr><td>41</td><td>23.84</td><td>57.18</td></tr>\n",
       "<tr><td>41</td><td>23.92</td><td>56.15</td></tr>\n",
       "<tr><td>41</td><td>24.45</td><td>54.74</td></tr>\n",
       "<tr><td>41</td><td>24.37</td><td>54.01</td></tr>\n",
       "<tr><td>41</td><td>24.71</td><td>52.08</td></tr>\n",
       "<tr><td>41</td><td>25.0</td><td>48.41</td></tr>\n",
       "<tr><td>41</td><td>25.27</td><td>46.8</td></tr>\n",
       "<tr><td>41</td><td>25.42</td><td>46.21</td></tr>\n",
       "<tr><td>41</td><td>25.39</td><td>47.07</td></tr>\n",
       "<tr><td>41</td><td>25.08</td><td>45.27</td></tr>\n",
       "<tr><td>41</td><td>25.07</td><td>47.84</td></tr>\n",
       "<tr><td>41</td><td>25.2</td><td>47.64</td></tr>\n",
       "<tr><td>41</td><td>24.97</td><td>47.39</td></tr>\n",
       "<tr><td>41</td><td>25.0</td><td>47.82</td></tr>\n",
       "<tr><td>41</td><td>24.76</td><td>48.51</td></tr>\n",
       "</table>\n",
       "only showing top 20 rows\n"
      ],
      "text/plain": [
       "+--------------------+-----------+---------+\n",
       "|weekofyear(data_ora)|temp1_media|ur1_media|\n",
       "+--------------------+-----------+---------+\n",
       "|                  41|      25.99|    56.69|\n",
       "|                  41|      25.81|    57.25|\n",
       "|                  41|      24.34|    52.91|\n",
       "|                  41|      23.82|    54.17|\n",
       "|                  41|      23.74|    55.22|\n",
       "|                  41|      23.84|    57.18|\n",
       "|                  41|      23.92|    56.15|\n",
       "|                  41|      24.45|    54.74|\n",
       "|                  41|      24.37|    54.01|\n",
       "|                  41|      24.71|    52.08|\n",
       "|                  41|       25.0|    48.41|\n",
       "|                  41|      25.27|     46.8|\n",
       "|                  41|      25.42|    46.21|\n",
       "|                  41|      25.39|    47.07|\n",
       "|                  41|      25.08|    45.27|\n",
       "|                  41|      25.07|    47.84|\n",
       "|                  41|       25.2|    47.64|\n",
       "|                  41|      24.97|    47.39|\n",
       "|                  41|       25.0|    47.82|\n",
       "|                  41|      24.76|    48.51|\n",
       "+--------------------+-----------+---------+\n",
       "only showing top 20 rows"
      ]
     },
     "execution_count": 44,
     "metadata": {},
     "output_type": "execute_result"
    }
   ],
   "source": [
    "from pyspark.sql.functions import weekofyear\n",
    "stazioneDf.select(weekofyear('data_ora'), 'temp1_media', 'ur1_media')"
   ]
  },
  {
   "cell_type": "code",
   "execution_count": 53,
   "metadata": {},
   "outputs": [],
   "source": [
    "df2 = stazioneDf.select(where(stazioneDf.year('data_ora') == 2, stazioneDf.year('data_ora') + 1).alias(\"year\"), \\\n",
    "                        weekofyear('data_ora').alias(\"week\"), \\\n",
    "                        \"temp1_media\", \\\n",
    "                        \"ur1_media\")\\\n",
    ".groupBy(\"week\").agg(avg(\"temp1_media\").alias(\"mean_temp1\"),\\\n",
    "                              avg(\"ur1_media\").alias(\"mean_ur1\")).orderBy(\"week\")"
   ]
  },
  {
   "cell_type": "code",
   "execution_count": 54,
   "metadata": {
    "scrolled": false
   },
   "outputs": [
    {
     "data": {
      "text/html": [
       "<table border='1'>\n",
       "<tr><th>week</th><th>mean_temp1</th><th>mean_ur1</th></tr>\n",
       "<tr><td>1</td><td>4.075252976190477</td><td>61.58029761904763</td></tr>\n",
       "<tr><td>2</td><td>3.711937406855441</td><td>72.22089418777941</td></tr>\n",
       "<tr><td>3</td><td>5.784401197604781</td><td>79.48673652694613</td></tr>\n",
       "<tr><td>4</td><td>3.8717168674698805</td><td>80.87670180722884</td></tr>\n",
       "<tr><td>5</td><td>5.550687593423019</td><td>90.52663677130032</td></tr>\n",
       "<tr><td>6</td><td>7.322846497764531</td><td>74.13402384500745</td></tr>\n",
       "<tr><td>7</td><td>8.061223880597026</td><td>53.742253731343304</td></tr>\n",
       "<tr><td>8</td><td>6.788776119402983</td><td>67.70213432835823</td></tr>\n",
       "<tr><td>9</td><td>9.962324888226531</td><td>59.35160953800301</td></tr>\n",
       "<tr><td>10</td><td>10.296855439642323</td><td>82.48035767511178</td></tr>\n",
       "<tr><td>11</td><td>9.33339791356184</td><td>70.10299552906106</td></tr>\n",
       "<tr><td>12</td><td>11.72640834575261</td><td>58.95256333830114</td></tr>\n",
       "<tr><td>13</td><td>10.33017937219731</td><td>56.012585949177875</td></tr>\n",
       "<tr><td>14</td><td>9.924358208955228</td><td>77.59340298507469</td></tr>\n",
       "<tr><td>15</td><td>9.706169895678087</td><td>81.62763040238443</td></tr>\n",
       "<tr><td>16</td><td>12.700327868852447</td><td>67.17731743666172</td></tr>\n",
       "<tr><td>17</td><td>13.98223880597013</td><td>78.02147761194023</td></tr>\n",
       "<tr><td>18</td><td>10.965914855072478</td><td>84.77298913043496</td></tr>\n",
       "<tr><td>19</td><td>11.97069969356487</td><td>76.79796220633294</td></tr>\n",
       "<tr><td>20</td><td>11.81251366120218</td><td>81.13484848484848</td></tr>\n",
       "</table>\n",
       "only showing top 20 rows\n"
      ],
      "text/plain": [
       "+----+------------------+------------------+\n",
       "|week|        mean_temp1|          mean_ur1|\n",
       "+----+------------------+------------------+\n",
       "|   1| 4.075252976190477| 61.58029761904763|\n",
       "|   2| 3.711937406855441| 72.22089418777941|\n",
       "|   3| 5.784401197604781| 79.48673652694613|\n",
       "|   4|3.8717168674698805| 80.87670180722884|\n",
       "|   5| 5.550687593423019| 90.52663677130032|\n",
       "|   6| 7.322846497764531| 74.13402384500745|\n",
       "|   7| 8.061223880597026|53.742253731343304|\n",
       "|   8| 6.788776119402983| 67.70213432835823|\n",
       "|   9| 9.962324888226531| 59.35160953800301|\n",
       "|  10|10.296855439642323| 82.48035767511178|\n",
       "|  11|  9.33339791356184| 70.10299552906106|\n",
       "|  12| 11.72640834575261| 58.95256333830114|\n",
       "|  13| 10.33017937219731|56.012585949177875|\n",
       "|  14| 9.924358208955228| 77.59340298507469|\n",
       "|  15| 9.706169895678087| 81.62763040238443|\n",
       "|  16|12.700327868852447| 67.17731743666172|\n",
       "|  17| 13.98223880597013| 78.02147761194023|\n",
       "|  18|10.965914855072478| 84.77298913043496|\n",
       "|  19| 11.97069969356487| 76.79796220633294|\n",
       "|  20| 11.81251366120218| 81.13484848484848|\n",
       "+----+------------------+------------------+\n",
       "only showing top 20 rows"
      ]
     },
     "execution_count": 54,
     "metadata": {},
     "output_type": "execute_result"
    }
   ],
   "source": [
    "df2"
   ]
  },
  {
   "cell_type": "code",
   "execution_count": null,
   "metadata": {},
   "outputs": [],
   "source": []
  }
 ],
 "metadata": {
  "kernelspec": {
   "display_name": "Python 3",
   "language": "python",
   "name": "python3"
  },
  "language_info": {
   "codemirror_mode": {
    "name": "ipython",
    "version": 3
   },
   "file_extension": ".py",
   "mimetype": "text/x-python",
   "name": "python",
   "nbconvert_exporter": "python",
   "pygments_lexer": "ipython3",
   "version": "3.7.3"
  }
 },
 "nbformat": 4,
 "nbformat_minor": 2
}
